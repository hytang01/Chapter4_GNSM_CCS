{
 "cells": [
  {
   "cell_type": "code",
   "execution_count": 21,
   "id": "0cc9e7f6-3058-437c-8b8f-445cb214e661",
   "metadata": {},
   "outputs": [],
   "source": [
    "# Define the range of numbers for the first column\n",
    "x_start = 1\n",
    "x_end = 82\n",
    "y_start = 1\n",
    "y_end = 82\n",
    "z_start = 1\n",
    "z_end = 20\n",
    "\n",
    "keyword = 'BPR'\n",
    "fileName = keyword+'.INC'\n",
    "# Open a file in write mode\n",
    "with open(fileName, 'w') as file:\n",
    "    file.write(keyword+'\\n')\n",
    "    # Loop through the range of numbers\n",
    "    for k in range(z_start, z_end + 1):\n",
    "        for j in range(y_start, y_end + 1):\n",
    "            for i in range(x_start, x_end + 1):\n",
    "                # Write the line to the file\n",
    "                file.write(f'{i} {j} {k} /\\n')\n",
    "    file.write('/\\n')"
   ]
  },
  {
   "cell_type": "code",
   "execution_count": null,
   "id": "11d1c62e-3b96-48af-b9f8-342cb1add170",
   "metadata": {},
   "outputs": [],
   "source": []
  }
 ],
 "metadata": {
  "kernelspec": {
   "display_name": "SIMGNN_SERC2",
   "language": "python",
   "name": "simgnn_serc2"
  },
  "language_info": {
   "codemirror_mode": {
    "name": "ipython",
    "version": 3
   },
   "file_extension": ".py",
   "mimetype": "text/x-python",
   "name": "python",
   "nbconvert_exporter": "python",
   "pygments_lexer": "ipython3",
   "version": "3.10.9"
  }
 },
 "nbformat": 4,
 "nbformat_minor": 5
}
